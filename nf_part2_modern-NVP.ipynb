{
 "cells": [
  {
   "cell_type": "markdown",
   "metadata": {},
   "source": [
    "# Normalizing Flows Part 2\n",
    "\n",
    "Real-NVP, BatchNorm Bijector, MAF. Two Moons and SIGGRAPH letters datasets\n",
    "\n",
    "Copyright 2018 Eric Jang"
   ]
  },
  {
   "cell_type": "code",
   "execution_count": 1,
   "metadata": {},
   "outputs": [
    {
     "name": "stdout",
     "output_type": "stream",
     "text": [
      "WARNING:tensorflow:\n",
      "The TensorFlow contrib module will not be included in TensorFlow 2.0.\n",
      "For more information, please see:\n",
      "  * https://github.com/tensorflow/community/blob/master/rfcs/20180907-contrib-sunset.md\n",
      "  * https://github.com/tensorflow/addons\n",
      "  * https://github.com/tensorflow/io (for I/O related ops)\n",
      "If you depend on functionality not listed there, please file an issue.\n",
      "\n"
     ]
    }
   ],
   "source": [
    "import numpy as np\n",
    "import matplotlib.pyplot as plt\n",
    "%matplotlib inline\n",
    "import tensorflow as tf\n",
    "tfd = tf.contrib.distributions\n",
    "tfb = tfd.bijectors\n",
    "layers = tf.contrib.layers"
   ]
  },
  {
   "cell_type": "code",
   "execution_count": 2,
   "metadata": {},
   "outputs": [
    {
     "data": {
      "text/plain": [
       "'1.15.0'"
      ]
     },
     "execution_count": 2,
     "metadata": {},
     "output_type": "execute_result"
    }
   ],
   "source": [
    "tf.VERSION"
   ]
  },
  {
   "cell_type": "code",
   "execution_count": 3,
   "metadata": {},
   "outputs": [],
   "source": [
    "tf.set_random_seed(0)"
   ]
  },
  {
   "cell_type": "code",
   "execution_count": 4,
   "metadata": {},
   "outputs": [],
   "source": [
    "sess = tf.InteractiveSession()"
   ]
  },
  {
   "cell_type": "markdown",
   "metadata": {},
   "source": [
    "## Settings"
   ]
  },
  {
   "cell_type": "code",
   "execution_count": 6,
   "metadata": {},
   "outputs": [],
   "source": [
    "DTYPE=tf.float32\n",
    "NP_DTYPE=np.float32\n",
    "MODEL = 'NVP' # Which Normalizing Flow to use. 'NVP' or 'MAF' or 'IAF'\n",
    "TARGET_DENSITY = 'SIGGRAPH' # Which dataset to model. 'MOONS' or 'SIGGRAPH' or 'GAUSSIAN'\n",
    "USE_BATCHNORM = False"
   ]
  },
  {
   "cell_type": "code",
   "execution_count": 7,
   "metadata": {},
   "outputs": [],
   "source": [
    "# dataset-specific settings\n",
    "settings = {\n",
    "    'SIGGRAPH': {\n",
    "        'batch_size': 1500,\n",
    "        'num_bijectors': 8,\n",
    "        'train_iters': 2e5\n",
    "    },\n",
    "    'MOONS': {\n",
    "        'batch_size': 100,\n",
    "        'num_bijectors': 4,\n",
    "        'train_iters': 2e4\n",
    "    }\n",
    "}"
   ]
  },
  {
   "cell_type": "markdown",
   "metadata": {},
   "source": [
    "## Target Density"
   ]
  },
  {
   "cell_type": "code",
   "execution_count": 8,
   "metadata": {},
   "outputs": [
    {
     "data": {
      "text/plain": [
       "(-2, 2)"
      ]
     },
     "execution_count": 8,
     "metadata": {},
     "output_type": "execute_result"
    },
    {
     "data": {
      "image/png": "[encoded data removed]",
      "text/plain": [
       "<Figure size 432x288 with 1 Axes>"
      ]
     },
     "metadata": {
      "needs_background": "light"
     },
     "output_type": "display_data"
    }
   ],
   "source": [
    "if TARGET_DENSITY == 'SIGGRAPH':\n",
    "    import pickle\n",
    "    with open('siggraph.pkl', 'rb') as f:\n",
    "        X = np.array(pickle.load(f))\n",
    "    X -= np.mean(X, axis=0)  # center\n",
    "    xlim, ylim = [-4, 4], [-2, 2]\n",
    "elif TARGET_DENSITY == 'MOONS':\n",
    "    from sklearn import cluster, datasets, mixture\n",
    "    from sklearn.preprocessing import StandardScaler\n",
    "    n_samples = 1000\n",
    "    noisy_moons = datasets.make_moons(n_samples=n_samples, noise=.05)\n",
    "    X, y = noisy_moons\n",
    "    X = StandardScaler().fit_transform(X)\n",
    "    xlim, ylim = [-2, 2], [-2, 2]\n",
    "elif TARGET_DENSITY == 'GAUSSIAN':\n",
    "    mean = [0.4, 1]\n",
    "    A = np.array([[2, .3], [-1., 4]])\n",
    "    cov = A.T.dot(A)\n",
    "    print(mean)\n",
    "    print(cov)\n",
    "    X = np.random.multivariate_normal(mean, cov, 2000)\n",
    "    xlim, ylim = [-2, 2], [-2, 2]\n",
    "plt.scatter(X[:, 0], X[:, 1], s=10, color='red')\n",
    "plt.xlim(xlim)\n",
    "plt.ylim(ylim)"
   ]
  },
  {
   "cell_type": "code",
   "execution_count": 9,
   "metadata": {},
   "outputs": [
    {
     "name": "stdout",
     "output_type": "stream",
     "text": [
      "WARNING:tensorflow:From /home/kedart/code/normalizing-flows-tutorial/venv-tf-1.6/lib/python3.7/site-packages/tensorflow_core/python/data/util/random_seed.py:58: where (from tensorflow.python.ops.array_ops) is deprecated and will be removed in a future version.\n",
      "Instructions for updating:\n",
      "Use tf.where in 2.0, which has the same broadcast rule as np.where\n",
      "WARNING:tensorflow:From <ipython-input-9-b741c9145990>:6: DatasetV1.make_one_shot_iterator (from tensorflow.python.data.ops.dataset_ops) is deprecated and will be removed in a future version.\n",
      "Instructions for updating:\n",
      "Use `for ... in dataset:` to iterate over a dataset. If using `tf.estimator`, return the `Dataset` object directly from your input function. As a last resort, you can use `tf.compat.v1.data.make_one_shot_iterator(dataset)`.\n"
     ]
    }
   ],
   "source": [
    "dataset = tf.data.Dataset.from_tensor_slices(X.astype(NP_DTYPE))\n",
    "dataset = dataset.repeat()\n",
    "dataset = dataset.shuffle(buffer_size=X.shape[0])\n",
    "dataset = dataset.prefetch(3 * settings[TARGET_DENSITY]['batch_size'])\n",
    "dataset = dataset.batch(settings[TARGET_DENSITY]['batch_size'])\n",
    "data_iterator = dataset.make_one_shot_iterator()\n",
    "x_samples = data_iterator.get_next()"
   ]
  },
  {
   "cell_type": "markdown",
   "metadata": {},
   "source": [
    "## Real-NVP"
   ]
  },
  {
   "cell_type": "code",
   "execution_count": 33,
   "metadata": {},
   "outputs": [],
   "source": [
    "def net(x, out_size):\n",
    "    return layers.stack(x, layers.fully_connected, [512, 512, out_size])\n",
    "\n",
    "# Affine Coupling layer for Real-NVP\n",
    "\n",
    "\n",
    "class NVPCoupling(tfb.Bijector):\n",
    "    \"\"\"NVP affine coupling layer for 2D units.\n",
    "    \"\"\"\n",
    "\n",
    "    def __init__(self, D, d, layer_id=0, validate_args=False, name=\"NVPCoupling\"):\n",
    "        \"\"\"\n",
    "        Args:\n",
    "          d: First d units are pass-thru units.\n",
    "        \"\"\"\n",
    "        # first d numbers decide scaling/shift factor for remaining D-d numbers.\n",
    "        super(NVPCoupling, self).__init__(\n",
    "            forward_min_event_ndims=1, validate_args=validate_args, name=name)\n",
    "        self.D, self.d = D, d\n",
    "        self.id = layer_id\n",
    "        # create variables here\n",
    "        tmp = tf.placeholder(dtype=DTYPE, shape=[1, self.d])\n",
    "        self.s(tmp)\n",
    "        self.t(tmp)\n",
    "\n",
    "    def s(self, xd):\n",
    "        with tf.variable_scope('s%d' % self.id, reuse=tf.AUTO_REUSE):\n",
    "            return net(xd, self.D - self.d)\n",
    "\n",
    "    def t(self, xd):\n",
    "        with tf.variable_scope('t%d' % self.id, reuse=tf.AUTO_REUSE):\n",
    "            return net(xd, self.D - self.d)\n",
    "\n",
    "    def _forward(self, x):\n",
    "        xd, xD = x[:, :self.d], x[:, self.d:]\n",
    "        yD = xD * tf.exp(self.s(xd)) + self.t(xd)  # [batch, D-d]\n",
    "        return tf.concat([xd, yD], axis=1)\n",
    "\n",
    "    def _inverse(self, y):\n",
    "        yd, yD = y[:, :self.d], y[:, self.d:]\n",
    "        xD = (yD - self.t(yd)) * tf.exp(-self.s(yd))\n",
    "        return tf.concat([yd, xD], axis=1)\n",
    "\n",
    "    def _forward_log_det_jacobian(self, x):\n",
    "        xd = x[:, :self.d]\n",
    "        return tf.reduce_sum(self.s(xd), axis=1)"
   ]
  },
  {
   "cell_type": "markdown",
   "metadata": {},
   "source": [
    "## BatchNorm Bijector"
   ]
  },
  {
   "cell_type": "code",
   "execution_count": 34,
   "metadata": {},
   "outputs": [],
   "source": [
    "class BatchNorm(tfb.Bijector):\n",
    "    def __init__(self, eps=1e-5, decay=0.95, validate_args=False, name=\"batch_norm\"):\n",
    "        super(BatchNorm, self).__init__(\n",
    "            event_ndims=1, validate_args=validate_args, name=name)\n",
    "        self._vars_created = False\n",
    "        self.eps = eps\n",
    "        self.decay = decay\n",
    "\n",
    "    def _create_vars(self, x):\n",
    "        n = x.get_shape().as_list()[1]\n",
    "        with tf.variable_scope(self.name):\n",
    "            self.beta = tf.get_variable('beta', [1, n], dtype=DTYPE)\n",
    "            self.gamma = tf.get_variable('gamma', [1, n], dtype=DTYPE)\n",
    "            self.train_m = tf.get_variable(\n",
    "                'mean', [1, n], dtype=DTYPE, trainable=False)\n",
    "            self.train_v = tf.get_variable(\n",
    "                'var', [1, n], dtype=DTYPE, initializer=tf.ones_initializer, trainable=False)\n",
    "        self._vars_created = True\n",
    "\n",
    "    def _forward(self, u):\n",
    "        if not self._vars_created:\n",
    "            self._create_vars(u)\n",
    "        return (u - self.beta) * tf.exp(-self.gamma) * tf.sqrt(self.train_v + self.eps) + self.train_m\n",
    "\n",
    "    def _inverse(self, x):\n",
    "        # Eq 22. Called during training of a normalizing flow.\n",
    "        if not self._vars_created:\n",
    "            self._create_vars(x)\n",
    "        # statistics of current minibatch\n",
    "        m, v = tf.nn.moments(x, axes=[0], keep_dims=True)\n",
    "        # update train statistics via exponential moving average\n",
    "        update_train_m = tf.assign_sub(\n",
    "            self.train_m, self.decay * (self.train_m - m))\n",
    "        update_train_v = tf.assign_sub(\n",
    "            self.train_v, self.decay * (self.train_v - v))\n",
    "        # normalize using current minibatch statistics, followed by BN scale and shift\n",
    "        with tf.control_dependencies([update_train_m, update_train_v]):\n",
    "            return (x - m) * 1. / tf.sqrt(v + self.eps) * tf.exp(self.gamma) + self.beta\n",
    "\n",
    "    def _inverse_log_det_jacobian(self, x):\n",
    "        # at training time, the log_det_jacobian is computed from statistics of the\n",
    "        # current minibatch.\n",
    "        if not self._vars_created:\n",
    "            self._create_vars(x)\n",
    "        _, v = tf.nn.moments(x, axes=[0], keep_dims=True)\n",
    "        abs_log_det_J_inv = tf.reduce_sum(\n",
    "            self.gamma - .5 * tf.log(v + self.eps))\n",
    "        return abs_log_det_J_inv"
   ]
  },
  {
   "cell_type": "markdown",
   "metadata": {},
   "source": [
    "## Construct Flow"
   ]
  },
  {
   "cell_type": "code",
   "execution_count": 35,
   "metadata": {},
   "outputs": [],
   "source": [
    "base_dist = tfd.MultivariateNormalDiag(loc=tf.zeros([2], DTYPE))"
   ]
  },
  {
   "cell_type": "code",
   "execution_count": 36,
   "metadata": {},
   "outputs": [],
   "source": [
    "num_bijectors = settings[TARGET_DENSITY]['num_bijectors']\n",
    "bijectors = []\n",
    "\n",
    "for i in range(num_bijectors):\n",
    "    if MODEL == 'NVP':\n",
    "        bijectors.append(NVPCoupling(D=2, d=1, layer_id=i))\n",
    "    elif MODEL == 'MAF':\n",
    "        bijectors.append(tfb.MaskedAutoregressiveFlow(\n",
    "            shift_and_log_scale_fn=tfb.masked_autoregressive_default_template(\n",
    "                hidden_layers=[512, 512])))\n",
    "    elif MODEL == 'IAF':\n",
    "        bijectors.append(tfb.Invert(tfb.MaskedAutoregressiveFlow(\n",
    "            shift_and_log_scale_fn=tfb.masked_autoregressive_default_template(\n",
    "                hidden_layers=[512, 512]))))\n",
    "    if USE_BATCHNORM and i % 2 == 0:\n",
    "        # BatchNorm helps to stabilize deep normalizing flows, esp. Real-NVP\n",
    "        bijectors.append(BatchNorm(name='batch_norm%d' % i))\n",
    "    bijectors.append(tfb.Permute(permutation=[1, 0]))\n",
    "# Discard the last Permute layer.\n",
    "flow_bijector = tfb.Chain(list(reversed(bijectors[:-1])))"
   ]
  },
  {
   "cell_type": "code",
   "execution_count": 37,
   "metadata": {},
   "outputs": [],
   "source": [
    "dist = tfd.TransformedDistribution(\n",
    "    distribution=base_dist,\n",
    "    bijector=flow_bijector)"
   ]
  },
  {
   "cell_type": "markdown",
   "metadata": {},
   "source": [
    "## Visualization (before training)"
   ]
  },
  {
   "cell_type": "code",
   "execution_count": 38,
   "metadata": {},
   "outputs": [],
   "source": [
    "# visualization\n",
    "x = base_dist.sample(8000)\n",
    "samples = [x]\n",
    "names = [base_dist.name]\n",
    "for bijector in reversed(dist.bijector.bijectors):\n",
    "    x = bijector.forward(x)\n",
    "    samples.append(x)\n",
    "    names.append(bijector.name)"
   ]
  },
  {
   "cell_type": "code",
   "execution_count": 39,
   "metadata": {},
   "outputs": [],
   "source": [
    "sess.run(tf.global_variables_initializer())"
   ]
  },
  {
   "cell_type": "code",
   "execution_count": 40,
   "metadata": {},
   "outputs": [
    {
     "data": {
      "image/png": "[encoded data removed]",
      "text/plain": [
       "<Figure size 4608x288 with 16 Axes>"
      ]
     },
     "metadata": {
      "needs_background": "light"
     },
     "output_type": "display_data"
    }
   ],
   "source": [
    "results = sess.run(samples)\n",
    "f, arr = plt.subplots(1, len(results), figsize=(4 * (len(results)), 4))\n",
    "X0 = results[0]\n",
    "for i in range(len(results)):\n",
    "    X1 = results[i]\n",
    "    idx = np.logical_and(X0[:, 0] < 0, X0[:, 1] < 0)\n",
    "    arr[i].scatter(X1[idx, 0], X1[idx, 1], s=10, color='red')\n",
    "    idx = np.logical_and(X0[:, 0] > 0, X0[:, 1] < 0)\n",
    "    arr[i].scatter(X1[idx, 0], X1[idx, 1], s=10, color='green')\n",
    "    idx = np.logical_and(X0[:, 0] < 0, X0[:, 1] > 0)\n",
    "    arr[i].scatter(X1[idx, 0], X1[idx, 1], s=10, color='blue')\n",
    "    idx = np.logical_and(X0[:, 0] > 0, X0[:, 1] > 0)\n",
    "    arr[i].scatter(X1[idx, 0], X1[idx, 1], s=10, color='black')\n",
    "    arr[i].set_xlim([-10, 10])\n",
    "    arr[i].set_ylim([-10, 10])\n",
    "    arr[i].set_title(names[i])"
   ]
  },
  {
   "cell_type": "markdown",
   "metadata": {},
   "source": [
    "## Optimize Flow"
   ]
  },
  {
   "cell_type": "code",
   "execution_count": 41,
   "metadata": {},
   "outputs": [],
   "source": [
    "loss = -tf.reduce_mean(dist.log_prob(x_samples))\n",
    "train_op = tf.train.AdamOptimizer(1e-4).minimize(loss)"
   ]
  },
  {
   "cell_type": "code",
   "execution_count": 42,
   "metadata": {},
   "outputs": [],
   "source": [
    "sess.run(tf.global_variables_initializer())"
   ]
  },
  {
   "cell_type": "code",
   "execution_count": null,
   "metadata": {},
   "outputs": [
    {
     "name": "stdout",
     "output_type": "stream",
     "text": [
      "0 3.0165813\n",
      "10000 2.3512661\n",
      "20000 2.4254425\n",
      "30000 2.4664779\n",
      "40000 2.3529866\n",
      "50000 2.51088\n",
      "60000 2.3612733\n",
      "70000 2.3823068\n",
      "80000 2.5315883\n",
      "90000 2.328015\n",
      "100000 2.4721098\n"
     ]
    }
   ],
   "source": [
    "NUM_STEPS = int(settings[TARGET_DENSITY]['train_iters'])\n",
    "global_step = []\n",
    "np_losses = []\n",
    "for i in range(NUM_STEPS):\n",
    "    _, np_loss = sess.run([train_op, loss])\n",
    "    if i % 1000 == 0:\n",
    "        global_step.append(i)\n",
    "        np_losses.append(np_loss)\n",
    "    if i % int(1e4) == 0:\n",
    "        print(i, np_loss)\n",
    "start = 0\n",
    "plt.plot(np_losses[start:])"
   ]
  },
  {
   "cell_type": "code",
   "execution_count": null,
   "metadata": {},
   "outputs": [],
   "source": [
    "results = sess.run(samples)\n",
    "X0 = results[0]\n",
    "rows = 2\n",
    "cols = int(len(results) / 2)\n",
    "f, arr = plt.subplots(2, cols, figsize=(4 * (cols), 4 * rows))\n",
    "i = 0\n",
    "for r in range(rows):\n",
    "    for c in range(cols):\n",
    "        X1 = results[i]\n",
    "        idx = np.logical_and(X0[:, 0] < 0, X0[:, 1] < 0)\n",
    "        arr[r, c].scatter(X1[idx, 0], X1[idx, 1], s=10, color='red')\n",
    "        idx = np.logical_and(X0[:, 0] > 0, X0[:, 1] < 0)\n",
    "        arr[r, c].scatter(X1[idx, 0], X1[idx, 1], s=10, color='green')\n",
    "        idx = np.logical_and(X0[:, 0] < 0, X0[:, 1] > 0)\n",
    "        arr[r, c].scatter(X1[idx, 0], X1[idx, 1], s=10, color='blue')\n",
    "        idx = np.logical_and(X0[:, 0] > 0, X0[:, 1] > 0)\n",
    "        arr[r, c].scatter(X1[idx, 0], X1[idx, 1], s=10, color='black')\n",
    "        arr[r, c].set_xlim([-5, 5])\n",
    "        arr[r, c].set_ylim([-5, 5])\n",
    "        arr[r, c].set_title(names[i])\n",
    "\n",
    "        i += 1\n",
    "plt.savefig('siggraph_trained.png', dpi=300)"
   ]
  },
  {
   "cell_type": "code",
   "execution_count": null,
   "metadata": {},
   "outputs": [],
   "source": [
    "# plot the last one, scaled up\n",
    "idx = np.logical_and(X0[:, 0] < 0, X0[:, 1] < 0)\n",
    "plt.scatter(X1[idx, 0], X1[idx, 1], s=10, color='red')\n",
    "idx = np.logical_and(X0[:, 0] > 0, X0[:, 1] < 0)\n",
    "plt.scatter(X1[idx, 0], X1[idx, 1], s=10, color='green')\n",
    "idx = np.logical_and(X0[:, 0] < 0, X0[:, 1] > 0)\n",
    "plt.scatter(X1[idx, 0], X1[idx, 1], s=10, color='blue')\n",
    "idx = np.logical_and(X0[:, 0] > 0, X0[:, 1] > 0)\n",
    "plt.scatter(X1[idx, 0], X1[idx, 1], s=10, color='black')\n",
    "plt.xlim([-3, 3])\n",
    "plt.ylim([-.5, .5])\n",
    "plt.savefig('siggraph_out.png', dpi=300)"
   ]
  },
  {
   "cell_type": "code",
   "execution_count": null,
   "metadata": {},
   "outputs": [],
   "source": []
  }
 ],
 "metadata": {
  "kernelspec": {
   "display_name": ".flow-tf1.6",
   "language": "python",
   "name": ".flow-tf1.6"
  },
  "language_info": {
   "codemirror_mode": {
    "name": "ipython",
    "version": 3
   },
   "file_extension": ".py",
   "mimetype": "text/x-python",
   "name": "python",
   "nbconvert_exporter": "python",
   "pygments_lexer": "ipython3",
   "version": "3.7.1"
  }
 },
 "nbformat": 4,
 "nbformat_minor": 2
}
